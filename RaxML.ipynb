{
 "cells": [
  {
   "cell_type": "code",
   "execution_count": 1,
   "id": "229ddbb2",
   "metadata": {},
   "outputs": [],
   "source": [
    "phyfile= r'/home/wenhaoyue/Documents/test_outfiles/test.phy'"
   ]
  },
  {
   "cell_type": "code",
   "execution_count": 2,
   "id": "15a616a3",
   "metadata": {},
   "outputs": [],
   "source": [
    "import ipyrad.analysis as ipa\n",
    "import toytree\n",
    "import toyplot"
   ]
  },
  {
   "cell_type": "code",
   "execution_count": 8,
   "id": "84321904",
   "metadata": {},
   "outputs": [],
   "source": [
    "rax = ipa.raxml(data=phyfile, T=24, \n",
    "                f='a',\n",
    "               N=100)"
   ]
  },
  {
   "cell_type": "code",
   "execution_count": 9,
   "id": "cbcfa48e",
   "metadata": {},
   "outputs": [
    {
     "name": "stdout",
     "output_type": "stream",
     "text": [
      "/home/wenhaoyue/miniconda3/envs/treemix/bin/raxmlHPC-PTHREADS-AVX2 -f a -T 24 -m GTRGAMMA -n test -w /home/wenhaoyue/Documents/ipyrad_workshop/analysis-raxml -s /home/wenhaoyue/Documents/test_outfiles/test.phy -p 54321 -N 100 -x 12345\n"
     ]
    }
   ],
   "source": [
    "print(rax.command)"
   ]
  },
  {
   "cell_type": "code",
   "execution_count": 10,
   "id": "1cca52ee",
   "metadata": {},
   "outputs": [
    {
     "name": "stdout",
     "output_type": "stream",
     "text": [
      "job test finished successfully\n"
     ]
    }
   ],
   "source": [
    "rax.run(block=True, force=False)  "
   ]
  },
  {
   "cell_type": "code",
   "execution_count": 11,
   "id": "9da3eb24",
   "metadata": {},
   "outputs": [
    {
     "data": {
      "text/html": [
       "<div class=\"toyplot\" id=\"tbcc5045e2d304eefa0c75e2a4abe7163\" style=\"text-align:center\"><svg class=\"toyplot-canvas-Canvas\" height=\"500.0px\" id=\"t5dbe23bea9e247cba0395f5f343438dc\" preserveAspectRatio=\"xMidYMid meet\" style=\"background-color:transparent;border-color:#292724;border-style:none;border-width:1.0;fill:rgb(16.1%,15.3%,14.1%);fill-opacity:1.0;font-family:Helvetica;font-size:12px;opacity:1.0;stroke:rgb(16.1%,15.3%,14.1%);stroke-opacity:1.0;stroke-width:1.0\" viewBox=\"0 0 500.0 500.0\" width=\"500.0px\" xmlns=\"http://www.w3.org/2000/svg\" xmlns:toyplot=\"http://www.sandia.gov/toyplot\" xmlns:xlink=\"http://www.w3.org/1999/xlink\"><g class=\"toyplot-coordinates-Cartesian\" id=\"t0beb48a6d0dc4d2aab52c9b3c4f85de9\"><clipPath id=\"t885daff0ff47495480918137b230e64f\"><rect height=\"440.0\" width=\"440.0\" x=\"30.0\" y=\"30.0\"></rect></clipPath><g clip-path=\"url(#t885daff0ff47495480918137b230e64f)\"><g class=\"toytree-mark-Toytree\" id=\"t809c52a80b8c4bcda26ccc18b152c2d5\"><g class=\"toytree-Edges\" style=\"fill:none;stroke:rgb(14.9%,14.9%,14.9%);stroke-linecap:round;stroke-opacity:1;stroke-width:2\"><path d=\"M 50.0 100.1 L 50.0 138.3 L 91.2 138.3\" id=\"48,47\"></path><path d=\"M 91.2 138.3 L 91.2 85.4 L 146.2 85.4\" id=\"47,46\"></path><path d=\"M 91.2 138.3 L 91.2 191.3 L 118.3 191.3\" id=\"47,45\"></path><path d=\"M 118.3 191.3 L 118.3 134.4 L 139.6 134.4\" id=\"45,44\"></path><path d=\"M 118.3 191.3 L 118.3 248.3 L 141.7 248.3\" id=\"45,43\"></path><path d=\"M 139.6 134.4 L 139.6 116.7 L 172.4 116.7\" id=\"44,42\"></path><path d=\"M 139.6 134.4 L 139.6 152.0 L 164.6 152.0\" id=\"44,41\"></path><path d=\"M 141.7 248.3 L 141.7 199.0 L 163.5 199.0\" id=\"43,40\"></path><path d=\"M 141.7 248.3 L 141.7 297.5 L 165.2 297.5\" id=\"43,39\"></path><path d=\"M 164.6 152.0 L 164.6 163.8 L 179.4 163.8\" id=\"41,38\"></path><path d=\"M 163.5 199.0 L 163.5 210.8 L 185.8 210.8\" id=\"40,37\"></path><path d=\"M 165.2 297.5 L 165.2 246.1 L 216.4 246.1\" id=\"39,36\"></path><path d=\"M 165.2 297.5 L 165.2 349.0 L 192.3 349.0\" id=\"39,35\"></path><path d=\"M 216.4 246.1 L 216.4 257.8 L 244.7 257.8\" id=\"36,34\"></path><path d=\"M 192.3 349.0 L 192.3 306.8 L 227.8 306.8\" id=\"35,33\"></path><path d=\"M 192.3 349.0 L 192.3 391.1 L 220.1 391.1\" id=\"35,32\"></path><path d=\"M 227.8 306.8 L 227.8 289.2 L 283.0 289.2\" id=\"33,31\"></path><path d=\"M 227.8 306.8 L 227.8 324.5 L 248.8 324.5\" id=\"33,30\"></path><path d=\"M 220.1 391.1 L 220.1 367.6 L 264.3 367.6\" id=\"32,29\"></path><path d=\"M 220.1 391.1 L 220.1 414.6 L 245.5 414.6\" id=\"32,28\"></path><path d=\"M 248.8 324.5 L 248.8 336.2 L 267.7 336.2\" id=\"30,27\"></path><path d=\"M 245.5 414.6 L 245.5 398.9 L 276.6 398.9\" id=\"28,26\"></path><path d=\"M 245.5 414.6 L 245.5 430.3 L 281.8 430.3\" id=\"28,25\"></path><path d=\"M 50.0 100.1 L 50.0 61.9 L 91.2 61.9\" id=\"48,24\"></path><path d=\"M 146.2 85.4 L 146.2 77.5 L 192.3 77.5\" id=\"46,23\"></path><path d=\"M 146.2 85.4 L 146.2 93.2 L 190.0 93.2\" id=\"46,22\"></path><path d=\"M 172.4 116.7 L 172.4 108.9 L 204.4 108.9\" id=\"42,21\"></path><path d=\"M 172.4 116.7 L 172.4 124.6 L 201.8 124.6\" id=\"42,20\"></path><path d=\"M 164.6 152.0 L 164.6 140.2 L 254.8 140.2\" id=\"41,19\"></path><path d=\"M 179.4 163.8 L 179.4 155.9 L 250.4 155.9\" id=\"38,18\"></path><path d=\"M 179.4 163.8 L 179.4 171.6 L 225.6 171.6\" id=\"38,17\"></path><path d=\"M 163.5 199.0 L 163.5 187.3 L 265.0 187.3\" id=\"40,16\"></path><path d=\"M 185.8 210.8 L 185.8 203.0 L 336.1 203.0\" id=\"37,15\"></path><path d=\"M 185.8 210.8 L 185.8 218.6 L 253.4 218.6\" id=\"37,14\"></path><path d=\"M 216.4 246.1 L 216.4 234.3 L 397.2 234.3\" id=\"36,13\"></path><path d=\"M 244.7 257.8 L 244.7 250.0 L 339.9 250.0\" id=\"34,12\"></path><path d=\"M 244.7 257.8 L 244.7 265.7 L 352.7 265.7\" id=\"34,11\"></path><path d=\"M 283.0 289.2 L 283.0 281.4 L 329.2 281.4\" id=\"31,10\"></path><path d=\"M 283.0 289.2 L 283.0 297.0 L 345.0 297.0\" id=\"31,9\"></path><path d=\"M 248.8 324.5 L 248.8 312.7 L 342.8 312.7\" id=\"30,8\"></path><path d=\"M 267.7 336.2 L 267.7 328.4 L 322.9 328.4\" id=\"27,7\"></path><path d=\"M 267.7 336.2 L 267.7 344.1 L 343.7 344.1\" id=\"27,6\"></path><path d=\"M 264.3 367.6 L 264.3 359.8 L 368.5 359.8\" id=\"29,5\"></path><path d=\"M 264.3 367.6 L 264.3 375.4 L 372.5 375.4\" id=\"29,4\"></path><path d=\"M 276.6 398.9 L 276.6 391.1 L 383.8 391.1\" id=\"26,3\"></path><path d=\"M 276.6 398.9 L 276.6 406.8 L 395.1 406.8\" id=\"26,2\"></path><path d=\"M 281.8 430.3 L 281.8 422.5 L 396.1 422.5\" id=\"25,1\"></path><path d=\"M 281.8 430.3 L 281.8 438.1 L 403.6 438.1\" id=\"25,0\"></path></g><g class=\"toytree-AlignEdges\" style=\"stroke:rgb(66.3%,66.3%,66.3%);stroke-dasharray:2, 4;stroke-linecap:round;stroke-opacity:1.0;stroke-width:2\"><path d=\"M 403.6 438.1 L 403.6 438.1\"></path><path d=\"M 403.6 422.5 L 396.1 422.5\"></path><path d=\"M 403.6 406.8 L 395.1 406.8\"></path><path d=\"M 403.6 391.1 L 383.8 391.1\"></path><path d=\"M 403.6 375.4 L 372.5 375.4\"></path><path d=\"M 403.6 359.8 L 368.5 359.8\"></path><path d=\"M 403.6 344.1 L 343.7 344.1\"></path><path d=\"M 403.6 328.4 L 322.9 328.4\"></path><path d=\"M 403.6 312.7 L 342.8 312.7\"></path><path d=\"M 403.6 297.0 L 345.0 297.0\"></path><path d=\"M 403.6 281.4 L 329.2 281.4\"></path><path d=\"M 403.6 265.7 L 352.7 265.7\"></path><path d=\"M 403.6 250.0 L 339.9 250.0\"></path><path d=\"M 403.6 234.3 L 397.2 234.3\"></path><path d=\"M 403.6 218.6 L 253.4 218.6\"></path><path d=\"M 403.6 203.0 L 336.1 203.0\"></path><path d=\"M 403.6 187.3 L 265.0 187.3\"></path><path d=\"M 403.6 171.6 L 225.6 171.6\"></path><path d=\"M 403.6 155.9 L 250.4 155.9\"></path><path d=\"M 403.6 140.2 L 254.8 140.2\"></path><path d=\"M 403.6 124.6 L 201.8 124.6\"></path><path d=\"M 403.6 108.9 L 204.4 108.9\"></path><path d=\"M 403.6 93.2 L 190.0 93.2\"></path><path d=\"M 403.6 77.5 L 192.3 77.5\"></path><path d=\"M 403.6 61.9 L 91.2 61.9\"></path></g><g class=\"toytree-Nodes\" style=\"fill:rgb(40%,76.1%,64.7%);fill-opacity:1.0;stroke:None;stroke-width:1\"><g id=\"node-0\" transform=\"translate(403.575,438.147)\"><circle r=\"0.0\"></circle></g><g id=\"node-1\" transform=\"translate(396.067,422.468)\"><circle r=\"0.0\"></circle></g><g id=\"node-2\" transform=\"translate(395.110,406.789)\"><circle r=\"0.0\"></circle></g><g id=\"node-3\" transform=\"translate(383.787,391.110)\"><circle r=\"0.0\"></circle></g><g id=\"node-4\" transform=\"translate(372.487,375.431)\"><circle r=\"0.0\"></circle></g><g id=\"node-5\" transform=\"translate(368.540,359.752)\"><circle r=\"0.0\"></circle></g><g id=\"node-6\" transform=\"translate(343.729,344.073)\"><circle r=\"0.0\"></circle></g><g id=\"node-7\" transform=\"translate(322.909,328.394)\"><circle r=\"0.0\"></circle></g><g id=\"node-8\" transform=\"translate(342.761,312.716)\"><circle r=\"0.0\"></circle></g><g id=\"node-9\" transform=\"translate(344.984,297.037)\"><circle r=\"0.0\"></circle></g><g id=\"node-10\" transform=\"translate(329.154,281.358)\"><circle r=\"0.0\"></circle></g><g id=\"node-11\" transform=\"translate(352.742,265.679)\"><circle r=\"0.0\"></circle></g><g id=\"node-12\" transform=\"translate(339.870,250.000)\"><circle r=\"0.0\"></circle></g><g id=\"node-13\" transform=\"translate(397.246,234.321)\"><circle r=\"0.0\"></circle></g><g id=\"node-14\" transform=\"translate(253.438,218.642)\"><circle r=\"0.0\"></circle></g><g id=\"node-15\" transform=\"translate(336.076,202.963)\"><circle r=\"0.0\"></circle></g><g id=\"node-16\" transform=\"translate(265.034,187.284)\"><circle r=\"0.0\"></circle></g><g id=\"node-17\" transform=\"translate(225.625,171.606)\"><circle r=\"0.0\"></circle></g><g id=\"node-18\" transform=\"translate(250.435,155.927)\"><circle r=\"0.0\"></circle></g><g id=\"node-19\" transform=\"translate(254.813,140.248)\"><circle r=\"0.0\"></circle></g><g id=\"node-20\" transform=\"translate(201.807,124.569)\"><circle r=\"0.0\"></circle></g><g id=\"node-21\" transform=\"translate(204.358,108.890)\"><circle r=\"0.0\"></circle></g><g id=\"node-22\" transform=\"translate(190.044,93.211)\"><circle r=\"0.0\"></circle></g><g id=\"node-23\" transform=\"translate(192.334,77.532)\"><circle r=\"0.0\"></circle></g><g id=\"node-24\" transform=\"translate(91.161,61.853)\"><circle r=\"0.0\"></circle></g><g id=\"node-25\" transform=\"translate(281.819,430.307)\"><circle r=\"6.5\"></circle></g><g id=\"node-26\" transform=\"translate(276.635,398.950)\"><circle r=\"6.5\"></circle></g><g id=\"node-27\" transform=\"translate(267.708,336.234)\"><circle r=\"6.5\"></circle></g><g id=\"node-28\" transform=\"translate(245.521,414.628)\"><circle r=\"6.5\"></circle></g><g id=\"node-29\" transform=\"translate(264.333,367.592)\"><circle r=\"6.5\"></circle></g><g id=\"node-30\" transform=\"translate(248.792,324.475)\"><circle r=\"6.5\"></circle></g><g id=\"node-31\" transform=\"translate(283.010,289.197)\"><circle r=\"6.5\"></circle></g><g id=\"node-32\" transform=\"translate(220.054,391.110)\"><circle r=\"6.5\"></circle></g><g id=\"node-33\" transform=\"translate(227.758,306.836)\"><circle r=\"6.5\"></circle></g><g id=\"node-34\" transform=\"translate(244.714,257.839)\"><circle r=\"6.5\"></circle></g><g id=\"node-35\" transform=\"translate(192.345,348.973)\"><circle r=\"6.5\"></circle></g><g id=\"node-36\" transform=\"translate(216.384,246.080)\"><circle r=\"6.5\"></circle></g><g id=\"node-37\" transform=\"translate(185.849,210.803)\"><circle r=\"6.5\"></circle></g><g id=\"node-38\" transform=\"translate(179.384,163.766)\"><circle r=\"6.5\"></circle></g><g id=\"node-39\" transform=\"translate(165.233,297.527)\"><circle r=\"6.5\"></circle></g><g id=\"node-40\" transform=\"translate(163.497,199.044)\"><circle r=\"6.5\"></circle></g><g id=\"node-41\" transform=\"translate(164.574,152.007)\"><circle r=\"6.5\"></circle></g><g id=\"node-42\" transform=\"translate(172.399,116.729)\"><circle r=\"6.5\"></circle></g><g id=\"node-43\" transform=\"translate(141.731,248.285)\"><circle r=\"6.5\"></circle></g><g id=\"node-44\" transform=\"translate(139.566,134.368)\"><circle r=\"6.5\"></circle></g><g id=\"node-45\" transform=\"translate(118.337,191.327)\"><circle r=\"6.5\"></circle></g><g id=\"node-46\" transform=\"translate(146.233,85.372)\"><circle r=\"6.5\"></circle></g><g id=\"node-47\" transform=\"translate(91.161,138.349)\"><circle r=\"6.5\"></circle></g><g id=\"node-48\" transform=\"translate(50.000,100.101)\"><circle r=\"0.0\"></circle></g></g><g class=\"toytree-NodeLabels\" style=\"fill:rgb(14.9%,14.9%,14.9%);fill-opacity:1.0;font-size:9px;stroke:none\"><g transform=\"translate(276.81,432.61)\"><text>42</text></g><g transform=\"translate(271.63,401.25)\"><text>45</text></g><g transform=\"translate(262.70,338.53)\"><text>61</text></g><g transform=\"translate(240.52,416.93)\"><text>41</text></g><g transform=\"translate(256.83,369.89)\"><text>100</text></g><g transform=\"translate(243.79,326.77)\"><text>88</text></g><g transform=\"translate(275.50,291.50)\"><text>100</text></g><g transform=\"translate(215.05,393.41)\"><text>41</text></g><g transform=\"translate(220.25,309.14)\"><text>100</text></g><g transform=\"translate(239.71,260.14)\"><text>62</text></g><g transform=\"translate(187.34,351.27)\"><text>33</text></g><g transform=\"translate(211.38,248.38)\"><text>63</text></g><g transform=\"translate(180.85,213.10)\"><text>79</text></g><g transform=\"translate(174.38,166.07)\"><text>45</text></g><g transform=\"translate(160.23,299.83)\"><text>26</text></g><g transform=\"translate(158.49,201.34)\"><text>25</text></g><g transform=\"translate(159.57,154.31)\"><text>56</text></g><g transform=\"translate(167.40,119.03)\"><text>65</text></g><g transform=\"translate(136.73,250.58)\"><text>28</text></g><g transform=\"translate(134.56,136.67)\"><text>41</text></g><g transform=\"translate(113.33,193.63)\"><text>69</text></g><g transform=\"translate(138.73,87.67)\"><text>100</text></g><g transform=\"translate(83.66,140.65)\"><text>100</text></g></g><g class=\"toytree-TipLabels\" style=\"fill:rgb(14.9%,14.9%,14.9%);fill-opacity:1.0;font-family:helvetica;font-size:11px;font-weight:normal;stroke:none;white-space:pre\"><g transform=\"translate(403.57,438.15)rotate(0)\"><text style=\"\" x=\"15.00\" y=\"2.81\">CK06</text></g><g transform=\"translate(403.57,422.47)rotate(0)\"><text style=\"\" x=\"15.00\" y=\"2.81\">CK07</text></g><g transform=\"translate(403.57,406.79)rotate(0)\"><text style=\"\" x=\"15.00\" y=\"2.81\">CK03</text></g><g transform=\"translate(403.57,391.11)rotate(0)\"><text style=\"\" x=\"15.00\" y=\"2.81\">CK02</text></g><g transform=\"translate(403.57,375.43)rotate(0)\"><text style=\"\" x=\"15.00\" y=\"2.81\">CK04</text></g><g transform=\"translate(403.57,359.75)rotate(0)\"><text style=\"\" x=\"15.00\" y=\"2.81\">CK05</text></g><g transform=\"translate(403.57,344.07)rotate(0)\"><text style=\"\" x=\"15.00\" y=\"2.81\">CK08</text></g><g transform=\"translate(403.57,328.39)rotate(0)\"><text style=\"\" x=\"15.00\" y=\"2.81\">CK01</text></g><g transform=\"translate(403.57,312.72)rotate(0)\"><text style=\"\" x=\"15.00\" y=\"2.81\">CK10</text></g><g transform=\"translate(403.57,297.04)rotate(0)\"><text style=\"\" x=\"15.00\" y=\"2.81\">CK09</text></g><g transform=\"translate(403.57,281.36)rotate(0)\"><text style=\"\" x=\"15.00\" y=\"2.81\">CK15</text></g><g transform=\"translate(403.57,265.68)rotate(0)\"><text style=\"\" x=\"15.00\" y=\"2.81\">CK24</text></g><g transform=\"translate(403.57,250.00)rotate(0)\"><text style=\"\" x=\"15.00\" y=\"2.81\">CK12</text></g><g transform=\"translate(403.57,234.32)rotate(0)\"><text style=\"\" x=\"15.00\" y=\"2.81\">CK25</text></g><g transform=\"translate(403.57,218.64)rotate(0)\"><text style=\"\" x=\"15.00\" y=\"2.81\">CK21</text></g><g transform=\"translate(403.57,202.96)rotate(0)\"><text style=\"\" x=\"15.00\" y=\"2.81\">CK22</text></g><g transform=\"translate(403.57,187.28)rotate(0)\"><text style=\"\" x=\"15.00\" y=\"2.81\">CK23</text></g><g transform=\"translate(403.57,171.61)rotate(0)\"><text style=\"\" x=\"15.00\" y=\"2.81\">CK17</text></g><g transform=\"translate(403.57,155.93)rotate(0)\"><text style=\"\" x=\"15.00\" y=\"2.81\">CK13</text></g><g transform=\"translate(403.57,140.25)rotate(0)\"><text style=\"\" x=\"15.00\" y=\"2.81\">CK20</text></g><g transform=\"translate(403.57,124.57)rotate(0)\"><text style=\"\" x=\"15.00\" y=\"2.81\">CK14</text></g><g transform=\"translate(403.57,108.89)rotate(0)\"><text style=\"\" x=\"15.00\" y=\"2.81\">CK16</text></g><g transform=\"translate(403.57,93.21)rotate(0)\"><text style=\"\" x=\"15.00\" y=\"2.81\">CK19</text></g><g transform=\"translate(403.57,77.53)rotate(0)\"><text style=\"\" x=\"15.00\" y=\"2.81\">CK11</text></g><g transform=\"translate(403.57,61.85)rotate(0)\"><text style=\"\" x=\"15.00\" y=\"2.81\">CK18</text></g></g></g></g></g></svg><div class=\"toyplot-behavior\"><script>(function()\n",
       "{\n",
       "var modules={};\n",
       "})();</script></div></div>"
      ]
     },
     "metadata": {},
     "output_type": "display_data"
    }
   ],
   "source": [
    "# (optional) draw your tree in the notebook\n",
    "import toytree\n",
    "\n",
    "# load from the .trees attribute of the raxml object, or from the saved tree file\n",
    "tre = toytree.tree(rax.trees.bipartitions)\n",
    "\n",
    "\n",
    "# draw the tree\n",
    "rtre = tre.root(wildcard='CK18')\n",
    "canvas, axes, mark = rtre.draw(tip_labels_align=True, node_labels=\"support\", node_sizes=13, width=500, height=500);\n",
    "# rtre.draw(tip_labels_align=True, node_labels=\"support\", node_sizes=8);"
   ]
  },
  {
   "cell_type": "code",
   "execution_count": 71,
   "id": "a184fc6c",
   "metadata": {},
   "outputs": [],
   "source": [
    "#output the image\n",
    "import toyplot.pdf\n",
    "toyplot.pdf.render(canvas, \"CK_RAxML.pdf\")"
   ]
  },
  {
   "cell_type": "code",
   "execution_count": null,
   "id": "e0b593e0",
   "metadata": {},
   "outputs": [],
   "source": []
  }
 ],
 "metadata": {
  "kernelspec": {
   "display_name": "Python 3",
   "language": "python",
   "name": "python3"
  },
  "language_info": {
   "codemirror_mode": {
    "name": "ipython",
    "version": 3
   },
   "file_extension": ".py",
   "mimetype": "text/x-python",
   "name": "python",
   "nbconvert_exporter": "python",
   "pygments_lexer": "ipython3",
   "version": "3.6.15"
  }
 },
 "nbformat": 4,
 "nbformat_minor": 5
}
